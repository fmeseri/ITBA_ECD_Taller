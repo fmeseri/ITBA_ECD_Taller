{
 "cells": [
  {
   "cell_type": "code",
   "execution_count": 2,
   "metadata": {},
   "outputs": [
    {
     "ename": "NameError",
     "evalue": "name 'df' is not defined",
     "output_type": "error",
     "traceback": [
      "\u001b[0;31m---------------------------------------------------------------------------\u001b[0m",
      "\u001b[0;31mNameError\u001b[0m                                 Traceback (most recent call last)",
      "\u001b[0;32m<ipython-input-2-c7bfb9f15a83>\u001b[0m in \u001b[0;36m<module>\u001b[0;34m\u001b[0m\n\u001b[1;32m     56\u001b[0m     \u001b[0;32mreturn\u001b[0m \u001b[0mdf\u001b[0m\u001b[0;34m\u001b[0m\u001b[0;34m\u001b[0m\u001b[0m\n\u001b[1;32m     57\u001b[0m \u001b[0;34m\u001b[0m\u001b[0m\n\u001b[0;32m---> 58\u001b[0;31m \u001b[0mprint\u001b[0m\u001b[0;34m(\u001b[0m\u001b[0mdf\u001b[0m\u001b[0;34m)\u001b[0m\u001b[0;34m\u001b[0m\u001b[0;34m\u001b[0m\u001b[0m\n\u001b[0m",
      "\u001b[0;31mNameError\u001b[0m: name 'df' is not defined"
     ]
    }
   ],
   "source": [
    "import json\n",
    "from datetime import datetime\n",
    "\n",
    "import numpy as np\n",
    "import pandas as pd\n",
    "import requests\n",
    "from airflow.models import DAG\n",
    "from airflow.operators.python_operator import PythonOperator\n",
    "from airflow.operators.sqlite_operator import SqliteOperator\n",
    "from sqlite_cli import SqLiteClient\n",
    "\n",
    "BASE_URL = 'https://www.alphavantage.co/query'\n",
    "API_KEY = 'TFHNYCWBD71JBSON'\n",
    "STOCK_FN = 'TIME_SERIES_DAILY'\n",
    "\n",
    "SQL_DB = '/tmp/sqlite_default.db'  # This is defined in Admin/Connections\n",
    "SQL_TABLE = 'stocks_daily'\n",
    "SQL_CREATE = f\"\"\"\n",
    "CREATE TABLE IF NOT EXISTS {SQL_TABLE} (\n",
    "date TEXT,\n",
    "symbol TEXT,\n",
    "avg_num_trades REAL,\n",
    "avg_price REAL,\n",
    "UNIQUE(date,symbol)\n",
    ")\n",
    "\"\"\"\n",
    "\n",
    "\n",
    "def _get_stock_data(stock_symbol, **context):\n",
    "    #date = f\"{context['execution_date']:%Y-%m-%d}\"  # read execution date from context\n",
    "    end_point = (\n",
    "        f\"{BASE_URL}?function={STOCK_FN}&symbol={stock_symbol}\"\n",
    "        f\"&apikey={API_KEY}&datatype=json\"\n",
    "    )\n",
    "    print(f\"Getting data from {end_point}...\")\n",
    "    r = requests.get(end_point)\n",
    "    data = json.loads(r.content)\n",
    "    print(data)\n",
    "    df = (\n",
    "        pd.DataFrame(data['Time Series (Daily)'])\n",
    "        .T.reset_index()\n",
    "        .rename(columns={'index': 'date'})\n",
    "    )\n",
    "    df = df[df['date'] == date]\n",
    "    if not df.empty:\n",
    "        for c in df.columns:\n",
    "            if c != 'date':\n",
    "                df[c] = df[c].astype(float)\n",
    "        df['avg_price'] = (df['2. high'] + df['3. low']) / 2\n",
    "        df['avg_num_trades'] = df['5. volume'] / 1440\n",
    "    else:\n",
    "        df = pd.DataFrame(\n",
    "            [[date, np.nan, np.nan]],\n",
    "            columns=['date', 'avg_num_trades', 'avg_price'],\n",
    "        )\n",
    "    df['symbol'] = stock_symbol\n",
    "    df = df[['date', 'symbol', 'avg_num_trades', 'avg_price']]\n",
    "    return df\n",
    "\n",
    "print(df)"
   ]
  },
  {
   "cell_type": "code",
   "execution_count": null,
   "metadata": {},
   "outputs": [],
   "source": []
  }
 ],
 "metadata": {
  "kernelspec": {
   "display_name": "Python 3",
   "language": "python",
   "name": "python3"
  },
  "language_info": {
   "codemirror_mode": {
    "name": "ipython",
    "version": 3
   },
   "file_extension": ".py",
   "mimetype": "text/x-python",
   "name": "python",
   "nbconvert_exporter": "python",
   "pygments_lexer": "ipython3",
   "version": "3.7.3"
  }
 },
 "nbformat": 4,
 "nbformat_minor": 4
}
