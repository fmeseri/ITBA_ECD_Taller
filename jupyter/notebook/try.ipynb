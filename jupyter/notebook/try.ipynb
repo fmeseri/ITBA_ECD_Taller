{
 "cells": [
  {
   "cell_type": "markdown",
   "metadata": {},
   "source": [
    "# PRUEBAS DE CODIGO PYTHON en desarrollo "
   ]
  },
  {
   "cell_type": "code",
   "execution_count": 50,
   "metadata": {},
   "outputs": [
    {
     "name": "stdout",
     "output_type": "stream",
     "text": [
      "         date\n",
      "0  2023-09-11\n",
      "Getting data from https://api.bluelytics.com.ar/v2/historical?day=2023-09-11...\n",
      "{'value_avg': 357.0, 'value_sell': 347.0, 'value_buy': 367.0}\n",
      "['2023-09-11', 357, 347, 367, 712, 707, 717]\n",
      "<class 'str'>\n",
      "false\n",
      "<class 'numpy.int64'>\n",
      "<class 'int'>\n",
      "<class 'numpy.int64'>\n",
      "<class 'int'>\n",
      "<class 'numpy.int64'>\n",
      "<class 'int'>\n",
      "<class 'numpy.int64'>\n",
      "<class 'int'>\n",
      "<class 'numpy.int64'>\n",
      "<class 'int'>\n",
      "<class 'numpy.int64'>\n",
      "<class 'int'>\n"
     ]
    }
   ],
   "source": [
    "import json\n",
    "from datetime import datetime\n",
    "from time import sleep\n",
    "\n",
    "import numpy as np\n",
    "import pandas as pd\n",
    "import requests\n",
    "\n",
    "\n",
    "## --https://api.bluelytics.com.ar/v2/historical?day=2023-09-08\n",
    "BASE_URL = 'https://api.bluelytics.com.ar/v2/historical?day='\n",
    "\n",
    "\n",
    "def _get_dolar_data(date):\n",
    "    ##date = f\"{context['execution_date']:%Y-%m-%d}\"  # read execution date from context\n",
    "    end_point = (\n",
    "        f\"{BASE_URL}{date}\" ### estamos tratando de armar el api.. \n",
    "    \n",
    "    ) ## --https://api.bluelytics.com.ar/v2/historical?day=2023-09-08\n",
    "    print(f\"Getting data from {end_point}...\")\n",
    "    r = requests.get(end_point)\n",
    "   \n",
    "    data = json.loads(r.content)\n",
    "     \n",
    "    return data\n",
    "d = {'date': ['2023-09-11']}\n",
    "df0= pd.DataFrame(data=d)\n",
    "\n",
    "print(df0)\n",
    "data=_get_dolar_data(\"2023-09-11\")\n",
    "print(data['oficial'])\n",
    "df1= pd.DataFrame.from_dict(data['oficial'], orient='index').transpose()\n",
    "df2= pd.DataFrame.from_dict(data['blue'], orient='index').transpose()\n",
    "df1=df1.rename(columns={\"value_avg\": \"ofAvg\", \"value_sell\": \"ofSell\",\"value_buy\":\"ofBuy\"})\n",
    "df2=df2.rename(columns={\"value_avg\": \"blueAvg\", \"value_sell\": \"blueSell\",\"value_buy\":\"blueBuy\"})\n",
    "df3= pd.concat([df0, df1], axis=1, join='inner')\n",
    "df= pd.concat([df3, df2], axis=1, join='inner')\n",
    "# print(df.dtypes)    \n",
    "df=df.astype({'ofAvg': 'int','ofSell': 'int','ofBuy': 'int','blueAvg': 'int','blueSell': 'int','blueBuy': 'int'})\n",
    "# print(df.dtypes)            \n",
    "Lista= df.loc[0, :].values.flatten().tolist()\n",
    "print(Lista)\n",
    "for i in range(len(Lista)):\n",
    "    print(type(Lista[i]))\n",
    "    if isinstance(Lista[i], str):\n",
    "        print('false')\n",
    "    else:\n",
    "        Lista[i]= Lista[i].item()\n",
    "        print(type(Lista[i]))\n",
    "        \n",
    "\n",
    "# for i in Lista:\n",
    "#     print(type(i))\n",
    "##print(df1)\n",
    "##print(df2)\n",
    "##df3= pd.concat([df0, df1], axis=1, join='inner')\n",
    "##df= pd.concat([df3, df2], axis=1, join='inner')\n",
    "##print(df)\n",
    "##df.dtypes\n",
    "\n",
    "\n"
   ]
  },
  {
   "cell_type": "code",
   "execution_count": null,
   "metadata": {},
   "outputs": [],
   "source": []
  },
  {
   "cell_type": "code",
   "execution_count": null,
   "metadata": {},
   "outputs": [],
   "source": []
  },
  {
   "cell_type": "code",
   "execution_count": null,
   "metadata": {},
   "outputs": [],
   "source": []
  }
 ],
 "metadata": {
  "kernelspec": {
   "display_name": "Python 3",
   "language": "python",
   "name": "python3"
  },
  "language_info": {
   "codemirror_mode": {
    "name": "ipython",
    "version": 3
   },
   "file_extension": ".py",
   "mimetype": "text/x-python",
   "name": "python",
   "nbconvert_exporter": "python",
   "pygments_lexer": "ipython3",
   "version": "3.7.3"
  }
 },
 "nbformat": 4,
 "nbformat_minor": 2
}
